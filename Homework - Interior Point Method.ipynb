{
 "cells": [
  {
   "cell_type": "markdown",
   "metadata": {
    "collapsed": true,
    "pycharm": {
     "name": "#%% md\n"
    }
   },
   "source": [
    "# Part 2: Homework 1\n",
    "*Course: Mathematics 2 (DataScience@FRI, University of Ljubljana)*"
   ]
  },
  {
   "cell_type": "markdown",
   "source": [
    "## Interior Point Method\n",
    "\n",
    "This notebook tests the custom implementation of Interior Point Method and compares it to a commercial LP solver."
   ],
   "metadata": {
    "collapsed": false,
    "pycharm": {
     "name": "#%% md\n"
    }
   }
  },
  {
   "cell_type": "code",
   "execution_count": 1,
   "outputs": [],
   "source": [
    "# Global imports\n",
    "import numpy as np\n",
    "from scipy.optimize import linprog\n",
    "\n",
    "from optimizers.InteriorPointMethodMinimizer import InteriorPointMethodMinimizer"
   ],
   "metadata": {
    "collapsed": false,
    "pycharm": {
     "name": "#%%\n"
    }
   }
  },
  {
   "cell_type": "code",
   "execution_count": 2,
   "outputs": [],
   "source": [
    "def is_solution_feasible(x: np.array, A: np.array, b: np.array):\n",
    "    \"\"\"\n",
    "    Checks if solutions is feasible.\n",
    "\n",
    "    :param x: Solution vector x\n",
    "    :param A: Coefficient matrix A\n",
    "    :param b: Bounds vector b\n",
    "    :return: True if solution is feasible, else False.\n",
    "    \"\"\"\n",
    "    # x >= 0\n",
    "    if not all(i >= 0 for i in list(x_custom_implementation)):\n",
    "        return False\n",
    "\n",
    "    nutritional_vals = A @ x\n",
    "    nutritional_vals_half = nutritional_vals[:int(len(nutritional_vals) / 2)]\n",
    "\n",
    "    # Check if solution satisfies constraints\n",
    "    for i in range(len(nutritional_vals_half)):\n",
    "        upper_bound = b[i]\n",
    "        lower_bound = b[i + len(nutritional_vals_half)]\n",
    "        if nutritional_vals_half[i] > upper_bound or nutritional_vals_half[i] < lower_bound:\n",
    "            return False\n",
    "\n",
    "    return True"
   ],
   "metadata": {
    "collapsed": false,
    "pycharm": {
     "name": "#%%\n"
    }
   }
  },
  {
   "cell_type": "code",
   "execution_count": 3,
   "outputs": [],
   "source": [
    "def beauty_print_result(A: np.array, x: np.array, c: np.array, commercial_calculation: bool):\n",
    "    \"\"\"\n",
    "    Beautifully prints our awesome results.\n",
    "\n",
    "    :param x: Solution vector x\n",
    "    :param A: Coefficient matrix A\n",
    "    :param c: Cost vector c\n",
    "    :param commercial_calculation: Boolean if x was calculated by commercial LP solver.\n",
    "\n",
    "    \"\"\"\n",
    "    if commercial_calculation:\n",
    "        print(\"Commercial application solution:\")\n",
    "    else:\n",
    "        print(\"Custom solution:\")\n",
    "\n",
    "    food_names = ['Potatoes', 'Bread', 'Milk', 'Eggs', 'Yoghurt', 'Vegetable oil', 'Beef', 'Strawberries']\n",
    "    print(\"\\tQuantity over a selection of foods:\")\n",
    "    for food_name, quantity in zip(food_names, x):\n",
    "        print(f\"\\t\\t{food_name}: {round(float(quantity), 2)}\")\n",
    "\n",
    "    print(\"\\tNutritional values:\")\n",
    "    nutritional_vals = A @ x\n",
    "    nutritional_vals_half = nutritional_vals[:int(len(nutritional_vals) / 2)]\n",
    "    nutritional_vals_names = ['CH', 'PR', 'FT', 'EN']\n",
    "    for nutritional_val_name, nutritional_val_quantity in zip(nutritional_vals_names, nutritional_vals_half):\n",
    "        print(f\"\\t\\t{nutritional_val_name}: {round(float(nutritional_val_quantity), 2)}\")\n",
    "\n",
    "    print(f\"\\tCost: {round(float(c @ x), 2)}\")"
   ],
   "metadata": {
    "collapsed": false,
    "pycharm": {
     "name": "#%%\n"
    }
   }
  },
  {
   "cell_type": "markdown",
   "source": [
    "### Simple example from lectures\n",
    "\n",
    "In this section we try to solve a simple example from lectures."
   ],
   "metadata": {
    "collapsed": false
   }
  },
  {
   "cell_type": "code",
   "execution_count": 4,
   "outputs": [],
   "source": [
    "A = np.array([\n",
    "    [2, 2],\n",
    "    [3, 1]\n",
    "]).T\n",
    "\n",
    "b = np.array([\n",
    "    [140],\n",
    "    [150]\n",
    "])\n",
    "\n",
    "c = np.array([\n",
    "    [100],\n",
    "    [80]\n",
    "])"
   ],
   "metadata": {
    "collapsed": false,
    "pycharm": {
     "name": "#%%\n"
    }
   }
  },
  {
   "cell_type": "code",
   "execution_count": 5,
   "outputs": [
    {
     "name": "stdout",
     "output_type": "stream",
     "text": [
      "Custom solution: [77.5 -5. ]\n"
     ]
    }
   ],
   "source": [
    "ipm_minimizer = InteriorPointMethodMinimizer(A=A,\n",
    "                                             b=b,\n",
    "                                             c=c)\n",
    "x_custom_implementation = ipm_minimizer.optimize()\n",
    "print(f\"Custom solution: {x_custom_implementation.flatten()}\")"
   ],
   "metadata": {
    "collapsed": false,
    "pycharm": {
     "name": "#%%\n"
    }
   }
  },
  {
   "cell_type": "code",
   "execution_count": 6,
   "outputs": [
    {
     "name": "stdout",
     "output_type": "stream",
     "text": [
      "Commercial solution: [0. 0.]\n"
     ]
    }
   ],
   "source": [
    "result = linprog(c=c, A_ub=A, b_ub=b)\n",
    "x_commercial = result.x\n",
    "print(f\"Commercial solution: {x_commercial}\")"
   ],
   "metadata": {
    "collapsed": false,
    "pycharm": {
     "name": "#%%\n"
    }
   }
  },
  {
   "cell_type": "markdown",
   "source": [
    "### A man does not live by bread alone\n",
    "We are given a matrix of nutrients and corresponding nutritional values and cost. Given certain constraints we have to minimize the cost of our diet.\n",
    "\n",
    "We test our own implementation of the Interior point method and the commercial LP solver."
   ],
   "metadata": {
    "collapsed": false,
    "pycharm": {
     "name": "#%% md\n"
    }
   }
  },
  {
   "cell_type": "code",
   "execution_count": 7,
   "outputs": [],
   "source": [
    "# Columns - food\n",
    "# Rows - variables that we are optimizing and that are used for contstraints\n",
    "nutritional_vals_mtx = np.array([[10, 22, 15, 45, 40, 20, 87, 21],\n",
    "                                 [18, 48, 5, 1, 5, 0, 0, 8],\n",
    "                                 [2, 11, 3, 13, 3, 0, 15, 1],\n",
    "                                 [0, 5, 3, 10, 3, 100, 30, 1],\n",
    "                                 [77, 270, 60, 140, 61, 880, 330, 32]])\n",
    "\n",
    "# Since we have an upper and lower bound, we have to do some transformations.\n",
    "# The idea is to separate the lower and upper bounds into two inequalities and negating the lower bound\n",
    "# inequality, thus providing additional bounds that are a linear combination of negative nutritional values.\n",
    "\n",
    "# Upper, lower bounds vector\n",
    "b = np.array([370, 170, 90, 2400, -250, -50, -50, -2200])\n",
    "\n",
    "# Upper, lower bounds coeeficient matrix A\n",
    "A = np.concatenate(\n",
    "    (nutritional_vals_mtx[1:], -nutritional_vals_mtx[1:]),\n",
    "    axis=0\n",
    ")\n",
    "\n",
    "# Cost vector\n",
    "c = nutritional_vals_mtx[0]\n"
   ],
   "metadata": {
    "collapsed": false,
    "pycharm": {
     "name": "#%%\n"
    }
   }
  },
  {
   "cell_type": "code",
   "execution_count": 8,
   "outputs": [
    {
     "name": "stdout",
     "output_type": "stream",
     "text": [
      "Forced delta: 0.9200000000000002, normalization integer: 100\n",
      "Custom solution:\n",
      "\tQuantity over a selection of foods:\n",
      "\t\tPotatoes: 0.0\n",
      "\t\tBread: 6.47\n",
      "\t\tMilk: 0.0\n",
      "\t\tEggs: 3.95\n",
      "\t\tYoghurt: 0.0\n",
      "\t\tVegetable oil: 0.0\n",
      "\t\tBeef: 0.0\n",
      "\t\tStrawberries: 0.0\n",
      "\tNutritional values:\n",
      "\t\tCH: 314.36\n",
      "\t\tPR: 122.45\n",
      "\t\tFT: 71.81\n",
      "\t\tEN: 2298.68\n",
      "\tCost: 319.89\n",
      "Forced delta: 0.9400000000000002, normalization integer: 900\n",
      "Custom solution:\n",
      "\tQuantity over a selection of foods:\n",
      "\t\tPotatoes: 0.0\n",
      "\t\tBread: 6.81\n",
      "\t\tMilk: 0.0\n",
      "\t\tEggs: 0.0\n",
      "\t\tYoghurt: 0.0\n",
      "\t\tVegetable oil: 0.52\n",
      "\t\tBeef: 0.0\n",
      "\t\tStrawberries: 0.0\n",
      "\tNutritional values:\n",
      "\t\tCH: 326.78\n",
      "\t\tPR: 74.89\n",
      "\t\tFT: 86.32\n",
      "\t\tEN: 2298.15\n",
      "\tCost: 160.23\n"
     ]
    }
   ],
   "source": [
    "for forced_delta in np.arange(0.8, 0.95, 0.01):\n",
    "    for norm_integer in np.arange(100, 1000, 100):\n",
    "        ipm_minimizer = InteriorPointMethodMinimizer(A=A,\n",
    "                                                     b=b,\n",
    "                                                     c=c,\n",
    "                                                     norm_integer=norm_integer,\n",
    "                                                     forced_delta=forced_delta)\n",
    "        x_custom_implementation = ipm_minimizer.optimize()\n",
    "        if is_solution_feasible(x=x_custom_implementation, A=A, b=b):\n",
    "            print(f\"Forced delta: {forced_delta}, normalization integer: {norm_integer}\")\n",
    "            beauty_print_result(A=A, x=x_custom_implementation, c=c, commercial_calculation=False)"
   ],
   "metadata": {
    "collapsed": false,
    "pycharm": {
     "name": "#%%\n"
    }
   }
  },
  {
   "cell_type": "code",
   "execution_count": 13,
   "outputs": [
    {
     "name": "stdout",
     "output_type": "stream",
     "text": [
      "Commercial application solution:\n",
      "\tQuantity over a selection of foods:\n",
      "\t\tPotatoes: 0.0\n",
      "\t\tBread: 6.23\n",
      "\t\tMilk: 0.0\n",
      "\t\tEggs: 0.0\n",
      "\t\tYoghurt: 0.0\n",
      "\t\tVegetable oil: 0.59\n",
      "\t\tBeef: 0.0\n",
      "\t\tStrawberries: 0.0\n",
      "\tNutritional values:\n",
      "\t\tCH: 299.04\n",
      "\t\tPR: 68.53\n",
      "\t\tFT: 90.0\n",
      "\t\tEN: 2200.0\n",
      "\tCost: 148.83\n"
     ]
    }
   ],
   "source": [
    "result = linprog(c=c, A_ub=A, b_ub=b)\n",
    "x_commercial = result.x\n",
    "beauty_print_result(A=A, x=x_commercial, c=c, commercial_calculation=True)"
   ],
   "metadata": {
    "collapsed": false,
    "pycharm": {
     "name": "#%%\n"
    }
   }
  }
 ],
 "metadata": {
  "kernelspec": {
   "display_name": "Python 3",
   "language": "python",
   "name": "python3"
  },
  "language_info": {
   "codemirror_mode": {
    "name": "ipython",
    "version": 2
   },
   "file_extension": ".py",
   "mimetype": "text/x-python",
   "name": "python",
   "nbconvert_exporter": "python",
   "pygments_lexer": "ipython2",
   "version": "2.7.6"
  }
 },
 "nbformat": 4,
 "nbformat_minor": 0
}