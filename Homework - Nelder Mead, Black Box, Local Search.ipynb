{
 "cells": [
  {
   "cell_type": "markdown",
   "metadata": {
    "collapsed": true,
    "pycharm": {
     "name": "#%% md\n"
    }
   },
   "source": [
    "# Part 2: Homework 2\n",
    "*Course: Mathematics 2 (DataScience@FRI, University of Ljubljana)*"
   ]
  },
  {
   "cell_type": "code",
   "execution_count": 7,
   "outputs": [],
   "source": [
    "# Global imports\n",
    "import time\n",
    "import subprocess\n",
    "import random\n",
    "import numpy as np\n",
    "import scipy\n",
    "import networkx as nx\n",
    "from cvxopt import solvers, matrix\n",
    "\n",
    "from optimizers.NelderMeadOptimizer import NelderMeadOptimizer\n",
    "from optimizers.MaximalWeightMatchingLocalSearch import MaximalWeightMatchingLocalSearch, sum_graph_weights"
   ],
   "metadata": {
    "collapsed": false,
    "pycharm": {
     "name": "#%%\n"
    }
   }
  },
  {
   "cell_type": "code",
   "execution_count": 2,
   "outputs": [],
   "source": [
    "# Seed\n",
    "random.seed(0)"
   ],
   "metadata": {
    "collapsed": false,
    "pycharm": {
     "name": "#%%\n"
    }
   }
  },
  {
   "cell_type": "markdown",
   "source": [
    "## Nelder Mead Method\n",
    "\n",
    "In this section we test our implementation of the Nelder Mead method. We test it on different diameters used for forming a tetrahedron and on 3 different functions."
   ],
   "metadata": {
    "collapsed": false,
    "pycharm": {
     "name": "#%% md\n"
    }
   }
  },
  {
   "cell_type": "code",
   "execution_count": 2,
   "outputs": [],
   "source": [
    "possible_diameters = [1, 3, 5]"
   ],
   "metadata": {
    "collapsed": false,
    "pycharm": {
     "name": "#%%\n"
    }
   }
  },
  {
   "cell_type": "markdown",
   "source": [
    "### Function 1"
   ],
   "metadata": {
    "collapsed": false,
    "pycharm": {
     "name": "#%% md\n"
    }
   }
  },
  {
   "cell_type": "code",
   "execution_count": 3,
   "outputs": [],
   "source": [
    "def cost_function_1(sample_points):\n",
    "    x = sample_points[0]\n",
    "    y = sample_points[1]\n",
    "    z = sample_points[2]\n",
    "\n",
    "    return (x - z) ** 2 + (2 * y + z) ** 2 + (4 * x - 2 * y + z) ** 2 + x + y"
   ],
   "metadata": {
    "collapsed": false,
    "pycharm": {
     "name": "#%%\n"
    }
   }
  },
  {
   "cell_type": "code",
   "execution_count": 4,
   "outputs": [
    {
     "name": "stdout",
     "output_type": "stream",
     "text": [
      "Diameter: 1\n",
      "Solution: x=[-0.16686424 -0.22943509  0.16662862], y=-0.1979162257488882\n",
      "Abs. diff. to true x: [1.97576083e-04 2.68421374e-04 3.80418885e-05]\n",
      "Abs. diff. to true y: 4.409177784825413e-07\n",
      "Time spent: 0.003686189651489258, Steps: 44\n",
      "Diameter: 3\n",
      "Solution: x=[-0.16682548 -0.22950194  0.16678644], y=-0.19791626166819298\n",
      "Abs. diff. to true x: [0.00015881 0.00033527 0.00011978]\n",
      "Abs. diff. to true y: 4.049984737020118e-07\n",
      "Time spent: 0.0024607181549072266, Steps: 55\n",
      "Diameter: 5\n",
      "Solution: x=[-0.16646306 -0.22897428  0.16663081], y=-0.1979163325152108\n",
      "Abs. diff. to true x: [2.03605282e-04 1.92390608e-04 3.58607933e-05]\n",
      "Abs. diff. to true y: 3.34151455894105e-07\n",
      "Time spent: 0.002635955810546875, Steps: 67\n"
     ]
    }
   ],
   "source": [
    "x_origin = np.zeros(3)\n",
    "x_true = np.array([-1 / 6, -11 / 48, 1 / 6])\n",
    "for diameter in possible_diameters:\n",
    "    print(f\"Diameter: {diameter}\")\n",
    "    nm_optimizer = NelderMeadOptimizer(x_origin=x_origin,\n",
    "                                       diameter=diameter,\n",
    "                                       f_cost=cost_function_1,\n",
    "                                       x_true=x_true,\n",
    "                                       max_iter=10000)\n",
    "    nm_optimizer.minimize()"
   ],
   "metadata": {
    "collapsed": false,
    "pycharm": {
     "name": "#%%\n"
    }
   }
  },
  {
   "cell_type": "markdown",
   "source": [
    "### Function 2"
   ],
   "metadata": {
    "collapsed": false
   }
  },
  {
   "cell_type": "code",
   "execution_count": 5,
   "outputs": [],
   "source": [
    "def cost_function_2(sample_points):\n",
    "    x = sample_points[0]\n",
    "    y = sample_points[1]\n",
    "    z = sample_points[2]\n",
    "\n",
    "    return (x - 1) ** 2 + (y - 1) ** 2 + 100 * (y - x ** 2) ** 2 + 100 * (z - y ** 2) ** 2"
   ],
   "metadata": {
    "collapsed": false,
    "pycharm": {
     "name": "#%%\n"
    }
   }
  },
  {
   "cell_type": "code",
   "execution_count": 6,
   "outputs": [
    {
     "name": "stdout",
     "output_type": "stream",
     "text": [
      "Diameter: 1\n",
      "Solution: x=[0.9999845  0.99996129 0.99986846], y=3.0069944518989106e-07\n",
      "Abs. diff. to true x: [1.54996014e-05 3.87054993e-05 1.31541009e-04]\n",
      "Abs. diff. to true y: 3.0069944518989106e-07\n",
      "Time spent: 0.010965108871459961, Steps: 192\n",
      "Diameter: 3\n",
      "Solution: x=[1.00018791 1.00040822 1.00085098], y=4.248894201940119e-07\n",
      "Abs. diff. to true x: [0.00018791 0.00040822 0.00085098]\n",
      "Abs. diff. to true y: 4.248894201940119e-07\n",
      "Time spent: 0.008292675018310547, Steps: 209\n",
      "Diameter: 5\n",
      "Solution: x=[1.0000865  1.00014676 1.00032761], y=2.1393312362123425e-07\n",
      "Abs. diff. to true x: [8.65017793e-05 1.46763219e-04 3.27609144e-04]\n",
      "Abs. diff. to true y: 2.1393312362123425e-07\n",
      "Time spent: 0.00533294677734375, Steps: 146\n"
     ]
    }
   ],
   "source": [
    "x_origin = np.array([-1, 1.2, 1.2])\n",
    "x_true = np.array([1, 1, 1])\n",
    "for diameter in possible_diameters:\n",
    "    print(f\"Diameter: {diameter}\")\n",
    "    nm_optimizer = NelderMeadOptimizer(x_origin=x_origin,\n",
    "                                       diameter=diameter,\n",
    "                                       f_cost=cost_function_2,\n",
    "                                       x_true=x_true,\n",
    "                                       max_iter=10000)\n",
    "    nm_optimizer.minimize()\n"
   ],
   "metadata": {
    "collapsed": false,
    "pycharm": {
     "name": "#%%\n"
    }
   }
  },
  {
   "cell_type": "markdown",
   "source": [
    "### Function 3"
   ],
   "metadata": {
    "collapsed": false
   }
  },
  {
   "cell_type": "code",
   "execution_count": 7,
   "outputs": [],
   "source": [
    "def cost_function_3(sample_points):\n",
    "    x = sample_points[0]\n",
    "    y = sample_points[1]\n",
    "\n",
    "    return (1.5 - x + x * y) ** 2 + (2.25 - x + x * y ** 2) ** 2 + (2.625 - x + x * y ** 3) ** 2"
   ],
   "metadata": {
    "collapsed": false,
    "pycharm": {
     "name": "#%%\n"
    }
   }
  },
  {
   "cell_type": "code",
   "execution_count": 8,
   "outputs": [
    {
     "name": "stdout",
     "output_type": "stream",
     "text": [
      "Diameter: 1\n",
      "Solution: x=[3.00194849 0.50034446], y=1.04863522008143e-06\n",
      "Abs. diff. to true x: [0.00194849 0.00034446]\n",
      "Abs. diff. to true y: 1.04863522008143e-06\n",
      "Time spent: 0.0017240047454833984, Steps: 34\n",
      "Diameter: 3\n",
      "Solution: x=[2.99976302 0.49988583], y=7.974757109495762e-08\n",
      "Abs. diff. to true x: [0.00023698 0.00011417]\n",
      "Abs. diff. to true y: 7.974757109495762e-08\n",
      "Time spent: 0.0024950504302978516, Steps: 36\n",
      "Diameter: 5\n",
      "Solution: x=[2.99884709 0.49979708], y=3.7206718438870837e-07\n",
      "Abs. diff. to true x: [0.00115291 0.00020292]\n",
      "Abs. diff. to true y: 3.7206718438870837e-07\n",
      "Time spent: 0.002170085906982422, Steps: 50\n"
     ]
    }
   ],
   "source": [
    "x_origin = np.array([4.5, 4.5])\n",
    "x_true = np.array([3, 0.5])\n",
    "for diameter in possible_diameters:\n",
    "    print(f\"Diameter: {diameter}\")\n",
    "    nm_optimizer = NelderMeadOptimizer(x_origin=x_origin,\n",
    "                                       diameter=diameter,\n",
    "                                       f_cost=cost_function_3,\n",
    "                                       x_true=x_true,\n",
    "                                       max_iter=10000)\n",
    "    nm_optimizer.minimize()"
   ],
   "metadata": {
    "collapsed": false,
    "pycharm": {
     "name": "#%%\n"
    }
   }
  },
  {
   "cell_type": "markdown",
   "source": [
    "## Black Box\n",
    "\n",
    "In this section we optimize the given black box model using our own implementation of the Nelder Mead method and compare the results with a commercial L-BFGS-B optimizer."
   ],
   "metadata": {
    "collapsed": false,
    "pycharm": {
     "name": "#%% md\n"
    }
   }
  },
  {
   "cell_type": "code",
   "execution_count": 10,
   "outputs": [
    {
     "name": "stdout",
     "output_type": "stream",
     "text": [
      "Function 1\n",
      "Nelder Mead\n",
      "Solution: x=[0.72302797 0.30711387 0.71356174], y=0.723072000026685\n",
      "Time spent: 1494.4380600452423, Steps: 76\n",
      "L-BFGS-B\n",
      "Solution: x=[0.72300518 0.30709772 0.7135977 ], y=0.723071360008897\n",
      "Time spent: 376.8282527923584\n",
      "Function 2\n",
      "Nelder Mead\n",
      "Solution: x=[0.72327655 0.30775949 0.71251399], y=0.723071738886136\n",
      "Time spent: 611.3038651943207, Steps: 35\n",
      "L-BFGS-B\n",
      "Solution: x=[0.72300002 0.30709999 0.71360008], y=0.723071360000003\n",
      "Time spent: 50.631964921951294\n",
      "Function 3\n",
      "Nelder Mead\n",
      "Solution: x=[0.72239463 0.30655337 0.71348252], y=0.723072039071156\n",
      "Time spent: 645.1453537940979, Steps: 38\n",
      "L-BFGS-B\n",
      "Solution: x=[0.72300005 0.30710004 0.71359988], y=0.72307136000002\n",
      "Time spent: 50.6066210269928\n"
     ]
    }
   ],
   "source": [
    "student_code = \"63170327\"\n",
    "x_origin = np.array([0, 0, 0])\n",
    "\n",
    "for i in range(3):\n",
    "    print(f\"Function {i + 1}\")\n",
    "    print(f\"Nelder Mead\")\n",
    "\n",
    "\n",
    "    def black_box_optimization(sample_points):\n",
    "        x = sample_points[0]\n",
    "        y = sample_points[1]\n",
    "        z = sample_points[2]\n",
    "        ix_func = str(i + 1)\n",
    "        result = subprocess.run(['./hw4_mac', student_code, ix_func, str(x), str(y), str(z)],\n",
    "                                stdout=subprocess.PIPE)\n",
    "        return float(result.stdout)\n",
    "\n",
    "\n",
    "    nm_optimizer = NelderMeadOptimizer(x_origin=x_origin,\n",
    "                                       diameter=1,\n",
    "                                       f_cost=black_box_optimization,\n",
    "                                       max_iter=200)\n",
    "    nm_optimizer.minimize()\n",
    "\n",
    "    print(f\"L-BFGS-B\")\n",
    "    start_time = time.time()\n",
    "    result = scipy.optimize.minimize(x0=x_origin, fun=black_box_optimization)\n",
    "    total_time = time.time() - start_time\n",
    "\n",
    "    print(f\"Solution: x={result.x}, y={black_box_optimization(result.x)}\")\n",
    "    print(f\"Time spent: {total_time}\")"
   ],
   "metadata": {
    "collapsed": false,
    "pycharm": {
     "name": "#%%\n"
    }
   }
  },
  {
   "cell_type": "markdown",
   "source": [
    "## Local Search Study: Maximal Weight Matching\n",
    "\n",
    "In this section we show how local search can be used to solve the maximal weight matching problem. When finding the next best solution in every iteration we produced matchings that are k-adjacent. We test different k: 1, 2, 3."
   ],
   "metadata": {
    "collapsed": false,
    "pycharm": {
     "name": "#%% md\n"
    }
   }
  },
  {
   "cell_type": "code",
   "execution_count": 3,
   "outputs": [],
   "source": [
    "dim = 20\n",
    "G = nx.grid_2d_graph(dim, dim)\n",
    "w = []\n",
    "for source, target in G.edges:\n",
    "    runif_1_2 = random.uniform(1, 2)\n",
    "    G[source][target][\"weight\"] = runif_1_2\n",
    "    w.append(runif_1_2)"
   ],
   "metadata": {
    "collapsed": false,
    "pycharm": {
     "name": "#%%\n"
    }
   }
  },
  {
   "cell_type": "code",
   "execution_count": 8,
   "outputs": [
    {
     "name": "stdout",
     "output_type": "stream",
     "text": [
      "Optimal solution: 339.28663641100064\n"
     ]
    }
   ],
   "source": [
    "# Using a commercial solver to solve the maximal weight matching problem\n",
    "M_opt_edges = nx.max_weight_matching(G=G)\n",
    "M_opt = nx.edge_subgraph(G=G, edges=M_opt_edges)\n",
    "M_opt_sum = sum_graph_weights(graph=M_opt)\n",
    "print(f\"Optimal solution: {M_opt_sum}\")"
   ],
   "metadata": {
    "collapsed": false,
    "pycharm": {
     "name": "#%%\n"
    }
   }
  },
  {
   "cell_type": "code",
   "execution_count": null,
   "outputs": [],
   "source": [
    "M_opt_edges = nx.max_weight_matching(G=G)\n",
    "M_opt = nx.edge_subgraph(G=G, edges=M_opt_edges)\n",
    "for source, target in M_opt_edges:\n",
    "    M_opt[source][target][\"weight\"] = G[source][target][\"weight\"]\n",
    "M_opt_sum = sum_graph_weights(graph=M_opt)\n"
   ],
   "metadata": {
    "collapsed": false,
    "pycharm": {
     "name": "#%%\n"
    }
   }
  },
  {
   "cell_type": "code",
   "execution_count": 4,
   "outputs": [
    {
     "name": "stdout",
     "output_type": "stream",
     "text": [
      "k=1\n"
     ]
    },
    {
     "name": "stderr",
     "output_type": "stream",
     "text": [
      "100%|██████████| 10000/10000 [00:14<00:00, 697.91it/s]\n"
     ]
    },
    {
     "name": "stdout",
     "output_type": "stream",
     "text": [
      "Sum of weights=205.2433331662313\n",
      "Time spent: 14.34494686126709, Steps: 10000\n",
      "k=2\n"
     ]
    },
    {
     "name": "stderr",
     "output_type": "stream",
     "text": [
      "100%|██████████| 10000/10000 [00:20<00:00, 498.55it/s]\n"
     ]
    },
    {
     "name": "stdout",
     "output_type": "stream",
     "text": [
      "Sum of weights=192.64855780870118\n",
      "Time spent: 20.059540033340454, Steps: 10000\n",
      "k=3\n"
     ]
    },
    {
     "name": "stderr",
     "output_type": "stream",
     "text": [
      "100%|██████████| 10000/10000 [00:25<00:00, 395.46it/s]"
     ]
    },
    {
     "name": "stdout",
     "output_type": "stream",
     "text": [
      "Sum of weights=193.36573082813828\n",
      "Time spent: 25.2884840965271, Steps: 10000\n"
     ]
    },
    {
     "name": "stderr",
     "output_type": "stream",
     "text": [
      "\n"
     ]
    }
   ],
   "source": [
    "for k in [1, 2, 3]:\n",
    "    print(f\"k={k}\")\n",
    "    ls_optimizer = MaximalWeightMatchingLocalSearch(G=G,\n",
    "                                                    k=k)\n",
    "    ls_optimizer.optimize()"
   ],
   "metadata": {
    "collapsed": false,
    "pycharm": {
     "name": "#%%\n"
    }
   }
  },
  {
   "cell_type": "code",
   "execution_count": 5,
   "outputs": [
    {
     "name": "stdout",
     "output_type": "stream",
     "text": [
      "k=1\n"
     ]
    },
    {
     "name": "stderr",
     "output_type": "stream",
     "text": [
      "100%|██████████| 10000/10000 [07:31<00:00, 22.16it/s]\n"
     ]
    },
    {
     "name": "stdout",
     "output_type": "stream",
     "text": [
      "Sum of weights=203.88814131587904\n",
      "Time spent: 451.3342270851135, Steps: 10000\n",
      "k=2\n"
     ]
    },
    {
     "name": "stderr",
     "output_type": "stream",
     "text": [
      "100%|██████████| 10000/10000 [15:18<00:00, 10.88it/s]\n"
     ]
    },
    {
     "name": "stdout",
     "output_type": "stream",
     "text": [
      "Sum of weights=207.1449337978389\n",
      "Time spent: 918.94389295578, Steps: 10000\n",
      "k=3\n"
     ]
    },
    {
     "name": "stderr",
     "output_type": "stream",
     "text": [
      "100%|██████████| 10000/10000 [22:07<00:00,  7.53it/s]"
     ]
    },
    {
     "name": "stdout",
     "output_type": "stream",
     "text": [
      "Sum of weights=179.1420475692353\n",
      "Time spent: 1327.9340589046478, Steps: 10000\n"
     ]
    },
    {
     "name": "stderr",
     "output_type": "stream",
     "text": [
      "\n"
     ]
    }
   ],
   "source": [
    "for k in [1, 2, 3]:\n",
    "    print(f\"k={k}\")\n",
    "    ls_optimizer = MaximalWeightMatchingLocalSearch(G=G,\n",
    "                                                    k=k,\n",
    "                                                    optimized_edge_picking=True)\n",
    "    ls_optimizer.optimize()"
   ],
   "metadata": {
    "collapsed": false,
    "pycharm": {
     "name": "#%%\n"
    }
   }
  },
  {
   "cell_type": "markdown",
   "source": [
    "### Relax Maximal Weight Matching problem"
   ],
   "metadata": {
    "collapsed": false,
    "pycharm": {
     "name": "#%% md\n"
    }
   }
  },
  {
   "cell_type": "code",
   "execution_count": 6,
   "outputs": [
    {
     "name": "stderr",
     "output_type": "stream",
     "text": [
      "/var/folders/cn/hhym6n8j6bv_xfr8rvgvz4k80000gn/T/ipykernel_20409/1552239093.py:2: FutureWarning: incidence_matrix will return a scipy.sparse array instead of a matrix in Networkx 3.0.\n",
      "  A = nx.incidence_matrix(G=G).todense()\n"
     ]
    },
    {
     "name": "stdout",
     "output_type": "stream",
     "text": [
      "Cost: 339.2866355197331\n"
     ]
    }
   ],
   "source": [
    "# Given graph incidence matrix\n",
    "A = nx.incidence_matrix(G=G).todense()\n",
    "# Upper and lower bounds for e that belongs to [0,1]^E\n",
    "A = np.concatenate([A, np.eye(len(G.edges))], axis=0)\n",
    "A = np.concatenate((A, -np.eye(len(G.edges))), axis=0)\n",
    "\n",
    "# This follows from x = 1 if the edge is in matching M and x = 0 otherwise!\n",
    "b = np.ones((dim ** 2, 1))\n",
    "# We have upper and lower bound constraints , because x belongs to [0,1]^E\n",
    "# Upper bound constraints\n",
    "b = np.concatenate((b, np.ones((len(G.edges), 1))), axis=0)\n",
    "# Lower bound constraints\n",
    "b = np.concatenate((b, np.zeros((len(G.edges), 1))), axis=0)\n",
    "\n",
    "# Optimizing for weights, where we are trying to maximize weight sum or equivalently minimize the negative weights sum\n",
    "c = - np.array(w)\n",
    "\n",
    "# Solver minimizes c^T @ x, given Ax<=b\n",
    "solvers.options['show_progress'] = False\n",
    "solution = solvers.lp(c=matrix(c),\n",
    "                      G=matrix(A),\n",
    "                      h=matrix(b))\n",
    "\n",
    "print(f\"Cost: {abs(solution['primal objective'])}\")"
   ],
   "metadata": {
    "collapsed": false,
    "pycharm": {
     "name": "#%%\n"
    }
   }
  }
 ],
 "metadata": {
  "kernelspec": {
   "display_name": "Python 3",
   "language": "python",
   "name": "python3"
  },
  "language_info": {
   "codemirror_mode": {
    "name": "ipython",
    "version": 2
   },
   "file_extension": ".py",
   "mimetype": "text/x-python",
   "name": "python",
   "nbconvert_exporter": "python",
   "pygments_lexer": "ipython2",
   "version": "2.7.6"
  }
 },
 "nbformat": 4,
 "nbformat_minor": 0
}